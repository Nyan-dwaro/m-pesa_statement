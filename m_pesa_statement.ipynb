{
  "nbformat": 4,
  "nbformat_minor": 0,
  "metadata": {
    "colab": {
      "provenance": [],
      "authorship_tag": "ABX9TyPW2d0Vb4oID/VhEo9hwZlI"
    },
    "kernelspec": {
      "name": "python3",
      "display_name": "Python 3"
    },
    "language_info": {
      "name": "python"
    }
  },
  "cells": [
    {
      "cell_type": "code",
      "execution_count": null,
      "metadata": {
        "id": "hobntmzzrUB3"
      },
      "outputs": [],
      "source": []
    },
    {
      "cell_type": "code",
      "source": [
        "#you can either use tabula or pdfplumber to extract tabula data from a pdf\n",
        "#let's install tabula to our environment\n",
        "pip install tabula-py"
      ],
      "metadata": {
        "colab": {
          "base_uri": "https://localhost:8080/"
        },
        "id": "0qIK8o1gbJ1E",
        "outputId": "c3e8dd4f-7979-49be-a448-c2b82e59b7d4"
      },
      "execution_count": null,
      "outputs": [
        {
          "output_type": "stream",
          "name": "stdout",
          "text": [
            "Requirement already satisfied: tabula-py in /usr/local/lib/python3.10/dist-packages (2.8.1)\n",
            "Requirement already satisfied: pandas>=0.25.3 in /usr/local/lib/python3.10/dist-packages (from tabula-py) (1.5.3)\n",
            "Requirement already satisfied: numpy in /usr/local/lib/python3.10/dist-packages (from tabula-py) (1.23.5)\n",
            "Requirement already satisfied: distro in /usr/lib/python3/dist-packages (from tabula-py) (1.7.0)\n",
            "Requirement already satisfied: jpype1 in /usr/local/lib/python3.10/dist-packages (from tabula-py) (1.4.1)\n",
            "Requirement already satisfied: python-dateutil>=2.8.1 in /usr/local/lib/python3.10/dist-packages (from pandas>=0.25.3->tabula-py) (2.8.2)\n",
            "Requirement already satisfied: pytz>=2020.1 in /usr/local/lib/python3.10/dist-packages (from pandas>=0.25.3->tabula-py) (2023.3.post1)\n",
            "Requirement already satisfied: packaging in /usr/local/lib/python3.10/dist-packages (from jpype1->tabula-py) (23.1)\n",
            "Requirement already satisfied: six>=1.5 in /usr/local/lib/python3.10/dist-packages (from python-dateutil>=2.8.1->pandas>=0.25.3->tabula-py) (1.16.0)\n"
          ]
        }
      ]
    },
    {
      "cell_type": "code",
      "source": [
        "#import libraries\n",
        "import tabula\n",
        "import pandas as pd"
      ],
      "metadata": {
        "id": "iswBSBMbrYKO"
      },
      "execution_count": null,
      "outputs": []
    },
    {
      "cell_type": "code",
      "source": [
        "#define the path\n",
        "pdf_path = '/content/MPESA_Statement_2021-08-17_to_2023-08-17_2547xxxxxx053.pdf'"
      ],
      "metadata": {
        "id": "QOUSM-0oraPW"
      },
      "execution_count": null,
      "outputs": []
    },
    {
      "cell_type": "code",
      "source": [
        "#convert the pdf to a list of data frames\n",
        "data = tabula.read_pdf(pdf_path, pages = 'all')"
      ],
      "metadata": {
        "id": "2raPAgFJrtW0"
      },
      "execution_count": null,
      "outputs": []
    },
    {
      "cell_type": "code",
      "source": [
        "#this is the dataframe i want to use so I create this as the reference\n",
        "dfs = data[2]"
      ],
      "metadata": {
        "id": "0W_uqcAusIat"
      },
      "execution_count": null,
      "outputs": []
    },
    {
      "cell_type": "code",
      "source": [
        "#dfs.to_csv('pesa.csv', index = True)"
      ],
      "metadata": {
        "id": "udqNK45zsOcS"
      },
      "execution_count": null,
      "outputs": []
    },
    {
      "cell_type": "code",
      "source": [
        "#just to see and confirm the data is okay\n",
        "dfs.head(30)"
      ],
      "metadata": {
        "id": "smvd9rCjsc14"
      },
      "execution_count": null,
      "outputs": []
    },
    {
      "cell_type": "code",
      "source": [
        "#create an empty list that will carry the matching dataframes in relation to the reference columns\n",
        "same_dfs = []\n"
      ],
      "metadata": {
        "id": "HKqUtrWGs23N"
      },
      "execution_count": null,
      "outputs": []
    },
    {
      "cell_type": "code",
      "source": [
        "#iterate through the list\n",
        "#check for column length similarity between the dfs\n",
        "#append\n",
        "for df in data:\n",
        "  if len(df.columns) == len(dfs.columns):\n",
        "    same_dfs.append(df)"
      ],
      "metadata": {
        "id": "UHIr4Dp9t6Km"
      },
      "execution_count": null,
      "outputs": []
    },
    {
      "cell_type": "code",
      "source": [
        "#combine the dfs\n",
        "combined_df = pd.concat(same_dfs, ignore_index = True)"
      ],
      "metadata": {
        "id": "fo8y-cV3vUmT"
      },
      "execution_count": null,
      "outputs": []
    },
    {
      "cell_type": "code",
      "source": [
        "#tjust to confirm\n",
        "combined_df.count()"
      ],
      "metadata": {
        "colab": {
          "base_uri": "https://localhost:8080/"
        },
        "id": "Cps0-csRw_H6",
        "outputId": "358aaf7e-d555-4882-a4a1-26f6997a1534"
      },
      "execution_count": null,
      "outputs": [
        {
          "output_type": "execute_result",
          "data": {
            "text/plain": [
              "Receipt No.           2254\n",
              "Completion Time       2254\n",
              "Details               2254\n",
              "Transaction Status    2254\n",
              "Paid In                264\n",
              "Withdrawn             1990\n",
              "Balance               2254\n",
              "Unnamed: 0               0\n",
              "dtype: int64"
            ]
          },
          "metadata": {},
          "execution_count": 52
        }
      ]
    },
    {
      "cell_type": "code",
      "source": [
        "\n",
        "combined_df.tail(50)"
      ],
      "metadata": {
        "id": "-YenqzqM1Nwa"
      },
      "execution_count": null,
      "outputs": []
    },
    {
      "cell_type": "code",
      "source": [],
      "metadata": {
        "id": "oyZ1Aj7U5Tzd"
      },
      "execution_count": null,
      "outputs": []
    },
    {
      "cell_type": "code",
      "source": [
        "#Details column is quite lomg and unique for similar transactions\n",
        "#functions to categorise\n",
        "def cat_details(details):\n",
        "  if \"Pay Bill Online to\" in details or \"Pay Bill to\" in details:\n",
        "    return \"Paybill\"\n",
        "  elif \"Business Payment from\" in details:\n",
        "    return \"Business Payment from\"\n",
        "  elif \"Funds received from\" in details:\n",
        "    return \"Funds received from\"\n",
        "  elif \"KCB M-PESA Withdraw\" in details:\n",
        "    return \"KCB M-PESA Withdraw\"\n",
        "  elif \"Offnet C2B Transfer\" in details:\n",
        "    return \"Offnet C2B Transfer\"\n",
        "  elif \"M-shwari Withdraw\" in details:\n",
        "    return \"M-Shwari Withdraw\"\n",
        "  elif \"Customer Transfer\" in details:\n",
        "    return \"Customer Transfer\"\n",
        "  elif \"Withdrawal Charge\" in details:\n",
        "    return \"Withdrawal Charge\"\n",
        "  elif \"Deposit of Funds\" in details:\n",
        "    return \"Deposit of Funds\"\n",
        "  elif \"Merchant Payment\" in details:\n",
        "    return \"Merchant Payment\"\n",
        "  elif \"Pay Bill Charge\" in details:\n",
        "    return \"Paybill Charge\"\n",
        "  elif \"Customer Payment to Small\" in details:\n",
        "    return \"Customer Payment to\"\n",
        "  elif \"Airtime Purchase\" in details:\n",
        "    return \"Airtime Purchase\"\n",
        "  elif \"Offnet C2B Transaction\" in details:\n",
        "    return \"Offnet C2B Reversal\"\n",
        "  elif \"Customer Withdrawal At Agent\" in details:\n",
        "    return \"Withdrawal At Agent\"\n",
        "  elif \"Send Money Reversal\" in details:\n",
        "    return \"Send Money Reversal\"\n",
        "  elif \"Pay Utility Reversal\" in details:\n",
        "    return \"Pay Utility Reversal\"\n",
        "  elif \"FSI LSA Statement\" in details:\n",
        "    return \"FSI LSA Statement\"\n",
        "  elif \"FI Organization Savings\" in details:\n",
        "    return \"FI Organization Savings\"\n",
        "  elif \"Salary Payment\" in details:\n",
        "    return \"Salary Payment\"\n",
        "  else:\n",
        "    return details\n",
        "\n",
        "combined_df['Category'] = combined_df['Details'].apply(cat_details)\n"
      ],
      "metadata": {
        "id": "2rkYdiQSiXrF"
      },
      "execution_count": null,
      "outputs": []
    },
    {
      "cell_type": "code",
      "source": [
        "combined_df['Category'].nunique()"
      ],
      "metadata": {
        "colab": {
          "base_uri": "https://localhost:8080/"
        },
        "id": "2XkcRkQ5553h",
        "outputId": "c3053aa3-0c5a-471c-9943-2834284c171b"
      },
      "execution_count": null,
      "outputs": [
        {
          "output_type": "execute_result",
          "data": {
            "text/plain": [
              "26"
            ]
          },
          "metadata": {},
          "execution_count": 55
        }
      ]
    },
    {
      "cell_type": "code",
      "source": [
        "combined_df['Category'].unique()"
      ],
      "metadata": {
        "colab": {
          "base_uri": "https://localhost:8080/"
        },
        "id": "pOs6WsY85p55",
        "outputId": "5838d972-deec-4ae3-e1ab-1e8de27b9c42"
      },
      "execution_count": null,
      "outputs": [
        {
          "output_type": "execute_result",
          "data": {
            "text/plain": [
              "array(['Airtime Purchase', 'Offnet C2B Transfer', 'Funds received from',\n",
              "       'M-Shwari Withdraw', 'M-Shwari Deposit', 'Deposit of Funds',\n",
              "       'Paybill Charge', 'Paybill', 'Customer Transfer',\n",
              "       'Withdrawal Charge', 'Withdrawal At Agent',\n",
              "       'Business Payment from', 'Offnet C2B Reversal',\n",
              "       'Pay Utility Reversal', 'Merchant Payment', 'FSI LSA Statement',\n",
              "       'M-Shwari Lock Deposit', 'Customer Payment to',\n",
              "       'KCB M-PESA Withdraw', 'Send Money Reversal',\n",
              "       'FI Organization Savings', 'Salary Payment', 'KCB M-PESA Deposit',\n",
              "       'M-Shwari Lock Deposit from\\rSavings',\n",
              "       'Merchant Customer Payment\\rfrom 7198278 - Teddy\\rWilliam     Otieno   11',\n",
              "       'M-Shwari Lock Activate and Save\\rfrom Savings'], dtype=object)"
            ]
          },
          "metadata": {},
          "execution_count": 56
        }
      ]
    },
    {
      "cell_type": "code",
      "source": [
        "\n",
        "null_rows = combined_df.isnull().all(axis=1)\n",
        "null_count = null_rows.sum()\n",
        "null_count"
      ],
      "metadata": {
        "colab": {
          "base_uri": "https://localhost:8080/"
        },
        "id": "O3hNjLxg6i3v",
        "outputId": "3930af91-ecb8-4cef-f164-feebf0612d80"
      },
      "execution_count": null,
      "outputs": [
        {
          "output_type": "execute_result",
          "data": {
            "text/plain": [
              "0"
            ]
          },
          "metadata": {},
          "execution_count": 57
        }
      ]
    },
    {
      "cell_type": "code",
      "source": [
        "#we dont need the details column\n",
        "combined_df.drop('Details', axis = 1, inplace = True)"
      ],
      "metadata": {
        "id": "UiK__5PhdvbP"
      },
      "execution_count": null,
      "outputs": []
    },
    {
      "cell_type": "code",
      "source": [
        "#also drop this unused column\n",
        "combined_df.drop('Unnamed: 0', axis = 1, inplace = True)"
      ],
      "metadata": {
        "id": "UtTuHf9B8N_H"
      },
      "execution_count": null,
      "outputs": []
    },
    {
      "cell_type": "code",
      "source": [
        "combined_df.columns"
      ],
      "metadata": {
        "colab": {
          "base_uri": "https://localhost:8080/"
        },
        "id": "NT2vKM-78dvO",
        "outputId": "c2f4bd2d-5920-4cbf-8eb6-501674e1c455"
      },
      "execution_count": null,
      "outputs": [
        {
          "output_type": "execute_result",
          "data": {
            "text/plain": [
              "Index(['Receipt No.', 'Completion Time', 'Transaction Status', 'Paid In',\n",
              "       'Withdrawn', 'Balance', 'Category'],\n",
              "      dtype='object')"
            ]
          },
          "metadata": {},
          "execution_count": 60
        }
      ]
    },
    {
      "cell_type": "code",
      "source": [
        "#fill nulls in paid column wit 0\n",
        "combined_df['Paid In'].fillna(0 , inplace = True)"
      ],
      "metadata": {
        "id": "-mPjjGw8jBJU"
      },
      "execution_count": null,
      "outputs": []
    },
    {
      "cell_type": "code",
      "source": [
        "#same to withdrawn\n",
        "combined_df['Withdrawn'].fillna(0, inplace = True)"
      ],
      "metadata": {
        "id": "3lTMJL80jrW8"
      },
      "execution_count": null,
      "outputs": []
    },
    {
      "cell_type": "code",
      "source": [
        "#convert to csv and download\n",
        "combined_df.to_csv('mpesa.csv', index = False, header = True)"
      ],
      "metadata": {
        "id": "l8W6-aw3vqvX"
      },
      "execution_count": null,
      "outputs": []
    }
  ]
}